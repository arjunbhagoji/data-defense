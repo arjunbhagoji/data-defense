{
 "cells": [
  {
   "cell_type": "code",
   "execution_count": 52,
   "metadata": {},
   "outputs": [],
   "source": [
    "import numpy as np\n",
    "import argparse"
   ]
  },
  {
   "cell_type": "code",
   "execution_count": 53,
   "metadata": {},
   "outputs": [
    {
     "data": {
      "text/plain": [
       "_StoreAction(option_strings=['--trial_num'], dest='trial_num', nargs=None, const=None, default=1, type=<class 'int'>, choices=None, help=None, metavar=None)"
      ]
     },
     "execution_count": 53,
     "metadata": {},
     "output_type": "execute_result"
    }
   ],
   "source": [
    "parser = argparse.ArgumentParser()\n",
    "# Data args\n",
    "parser.add_argument('--dataset_in', type=str, default='MNIST')\n",
    "parser.add_argument('--n_classes', type=int, default=10)\n",
    "parser.add_argument('--num_samples', type=int, default=None)\n",
    "\n",
    "# Model args\n",
    "parser.add_argument('--model', type=str, default='cnn_3l',\n",
    "                    choices=['wrn', 'cnn_3l', 'cnn_3l_bn', 'dn'])\n",
    "parser.add_argument('--conv_expand', type=int, default=1)\n",
    "parser.add_argument('--fc_expand', type=int, default=1)\n",
    "parser.add_argument('--depth', type=int, default=28)\n",
    "parser.add_argument('--width', type=int, default=10)\n",
    "parser.add_argument('--lr_schedule', type=str, default='linear0')\n",
    "parser.add_argument('--batch_size', type=int, default=128)\n",
    "parser.add_argument('--test_batch_size', type=int, default=128)\n",
    "# parser.add_argument('--learning_rate', type=float, default=0.1)\n",
    "# parser.add_argument('--weight_decay', type=float, default=2e-4)\n",
    "\n",
    "# Defense args\n",
    "parser.add_argument('--is_adv', dest='is_adv', action='store_true')\n",
    "parser.add_argument('--attack', type=str, default='PGD_l2',\n",
    "                    choices=['PGD_l2', 'PGD_linf', 'PGD_l2_hybrid_seed', 'PGD_l2_hybrid_replace'])\n",
    "parser.add_argument('--epsilon', type=float, default=8.0)\n",
    "parser.add_argument('--attack_iter', type=int, default=10)\n",
    "parser.add_argument('--gamma', type=float, default=1.0)\n",
    "parser.add_argument('--eps_step', type=float, default=2.0)\n",
    "parser.add_argument('--is_dropping', dest='dropping', action='store_true')\n",
    "parser.add_argument('--rand_init', dest='rand_init', action='store_true')\n",
    "parser.add_argument('--eps_schedule', type=int, default=0)\n",
    "parser.add_argument('--num_restarts', type=int, default=1)\n",
    "parser.add_argument('--marking_strat', type=str, default=None)\n",
    "parser.add_argument('--matching_path', type=str, default='matchings')\n",
    "parser.add_argument('--degree_path', type=str, default='graph_data/degree_results')\n",
    "parser.add_argument(\"--norm\", default='l2', help=\"norm to be used\")\n",
    "parser.add_argument('--drop_thresh', type=int, default=100)\n",
    "parser.add_argument('--curriculum', type=str, default='all')\n",
    "\n",
    "# Attack args\n",
    "parser.add_argument('--new_attack', type=str, default='PGD_l2',\n",
    "                    choices=['PGD_l2', 'PGD_linf', 'PGD_l2_hybrid_seed', 'PGD_l2_hybrid_replace'])\n",
    "parser.add_argument('--new_epsilon', type=float, default=2.0)\n",
    "parser.add_argument('--new_attack_iter', type=int, default=20)\n",
    "parser.add_argument('--new_gamma', type=float, default=1.0)\n",
    "parser.add_argument('--targeted', dest='targeted', action='store_true')\n",
    "parser.add_argument('--clip_min', type=float, default=0)\n",
    "parser.add_argument('--clip_max', type=float, default=1.0)\n",
    "parser.add_argument('--new_rand_init',\n",
    "                    dest='new_rand_init', action='store_true')\n",
    "parser.add_argument('--new_num_restarts', type=int, default=1)\n",
    "parser.add_argument('--new_marking_strat', type=str, default=None)\n",
    "\n",
    "# IO args\n",
    "parser.add_argument('--last_epoch', type=int, default=0)\n",
    "parser.add_argument('--checkpoint_path', type=str,\n",
    "                    default='trained_models')\n",
    "parser.add_argument('--is_viz', dest='viz', action='store_true')\n",
    "\n",
    "# Trial args\n",
    "parser.add_argument('--num_of_trials', type=int, default=1)\n",
    "parser.add_argument('--save_test', dest='save_test', action='store_true')\n",
    "parser.add_argument('--track_hard', dest='track_hard', action='store_true')\n",
    "parser.add_argument('--trial_num', type=int, default=1)"
   ]
  },
  {
   "cell_type": "code",
   "execution_count": 54,
   "metadata": {},
   "outputs": [],
   "source": [
    "args = parser.parse_args(\"--dataset=MNIST --n_classes=2 --num_samples=2000 --model=cnn_3l_bn --attack=PGD_l2 --epsilon=4.0 --attack_iter=50 --gamma=2.5 --new_attack=PGD_l2 --new_epsilon=4.0 --new_attack_iter=50 --new_gamma=2.5 --trial_num=2 --is_adv  --rand_init --new_rand_init\".split())"
   ]
  },
  {
   "cell_type": "code",
   "execution_count": 55,
   "metadata": {},
   "outputs": [],
   "source": [
    "args.eps_step = args.epsilon*args.gamma/args.attack_iter\n",
    "args.new_eps_step = args.new_epsilon*args.gamma/args.new_attack_iter\n",
    "attack_params = {'attack': args.new_attack, 'epsilon': args.new_epsilon, \n",
    "             'attack_iter': args.new_attack_iter, 'eps_step': args.new_eps_step,\n",
    "             'targeted': args.targeted, 'clip_min': args.clip_min,\n",
    "             'clip_max': args.clip_max,'rand_init': args.new_rand_init, \n",
    "             'num_restarts': args.new_num_restarts}"
   ]
  },
  {
   "cell_type": "code",
   "execution_count": 56,
   "metadata": {},
   "outputs": [
    {
     "data": {
      "text/plain": [
       "Namespace(attack='PGD_l2', attack_iter=50, batch_size=128, checkpoint_path='trained_models', clip_max=1.0, clip_min=0, conv_expand=1, curriculum='all', dataset_in='MNIST', degree_path='graph_data/degree_results', depth=28, drop_thresh=100, dropping=False, eps_schedule=0, eps_step=0.2, epsilon=4.0, fc_expand=1, gamma=2.5, is_adv=True, last_epoch=0, lr_schedule='linear0', marking_strat=None, matching_path='matchings', model='cnn_3l_bn', n_classes=2, new_attack='PGD_l2', new_attack_iter=50, new_eps_step=0.2, new_epsilon=4.0, new_gamma=2.5, new_marking_strat=None, new_num_restarts=1, new_rand_init=True, norm='l2', num_of_trials=1, num_restarts=1, num_samples=2000, rand_init=True, save_test=False, targeted=False, test_batch_size=128, track_hard=False, trial_num=2, viz=False, width=10)"
      ]
     },
     "execution_count": 56,
     "metadata": {},
     "output_type": "execute_result"
    }
   ],
   "source": [
    "args"
   ]
  },
  {
   "cell_type": "code",
   "execution_count": 57,
   "metadata": {},
   "outputs": [],
   "source": [
    "class_1 = 3\n",
    "class_2 = 7\n",
    "save_file_name = 'logloss_' + str(class_1) + '_' + str(class_2) + '_' + str(args.num_samples) + '_' + args.dataset_in + '_' + args.norm"
   ]
  },
  {
   "cell_type": "code",
   "execution_count": 58,
   "metadata": {},
   "outputs": [],
   "source": [
    "optimal = np.loadtxt('graph_data/optimal_probs/' + save_file_name + '_' + str(args.epsilon) + '.txt')"
   ]
  },
  {
   "cell_type": "code",
   "execution_count": 59,
   "metadata": {},
   "outputs": [
    {
     "data": {
      "text/plain": [
       "array([[1.     , 0.     ],\n",
       "       [0.5    , 0.5    ],\n",
       "       [1.     , 0.     ],\n",
       "       ...,\n",
       "       [0.48315, 0.51685],\n",
       "       [0.08333, 0.91667],\n",
       "       [0.03478, 0.96522]])"
      ]
     },
     "execution_count": 59,
     "metadata": {},
     "output_type": "execute_result"
    }
   ],
   "source": [
    "optimal"
   ]
  },
  {
   "cell_type": "code",
   "execution_count": 60,
   "metadata": {},
   "outputs": [],
   "source": [
    "from utils.io_utils import model_naming, test_probs_save_name\n",
    "_, model_name = model_naming(args)\n",
    "probs_output_fname = test_probs_save_name(args,model_name)\n",
    "args.trial_num=1\n",
    "empirical=np.loadtxt(probs_output_fname + '_train.txt')"
   ]
  },
  {
   "cell_type": "code",
   "execution_count": 61,
   "metadata": {},
   "outputs": [
    {
     "data": {
      "text/plain": [
       "array([[0.54374, 0.45626],\n",
       "       [0.46893, 0.53107],\n",
       "       [0.81318, 0.18682],\n",
       "       ...,\n",
       "       [0.66335, 0.33665],\n",
       "       [0.28896, 0.71104],\n",
       "       [0.3278 , 0.6722 ]])"
      ]
     },
     "execution_count": 61,
     "metadata": {},
     "output_type": "execute_result"
    }
   ],
   "source": [
    "empirical"
   ]
  },
  {
   "cell_type": "code",
   "execution_count": 62,
   "metadata": {},
   "outputs": [],
   "source": [
    "optimal_loss=np.zeros((2*args.num_samples))\n",
    "optimal_loss[:args.num_samples]=-1*np.log(optimal[:args.num_samples,0])\n",
    "optimal_loss[args.num_samples:]=-1*np.log(optimal[args.num_samples:,1])"
   ]
  },
  {
   "cell_type": "code",
   "execution_count": 63,
   "metadata": {},
   "outputs": [],
   "source": [
    "empirical_loss=np.zeros((2*args.num_samples))\n",
    "empirical_loss[:args.num_samples]=-1*np.log(empirical[:args.num_samples,0])\n",
    "empirical_loss[args.num_samples:]=-1*np.log(empirical[args.num_samples:,1])"
   ]
  },
  {
   "cell_type": "code",
   "execution_count": 64,
   "metadata": {},
   "outputs": [
    {
     "data": {
      "text/plain": [
       "array([0.0000000e+00, 2.0010005e-03, 4.0020010e-03, ..., 3.9959980e+00,\n",
       "       3.9979990e+00, 4.0000000e+00])"
      ]
     },
     "execution_count": 64,
     "metadata": {},
     "output_type": "execute_result"
    }
   ],
   "source": [
    "x=np.linspace(0,4,2000)\n",
    "x"
   ]
  },
  {
   "cell_type": "code",
   "execution_count": 69,
   "metadata": {},
   "outputs": [],
   "source": [
    "y=np.tile(np.log(2),2000)"
   ]
  },
  {
   "cell_type": "code",
   "execution_count": 70,
   "metadata": {},
   "outputs": [
    {
     "data": {
      "image/png": "[encoded data removed]",
      "text/plain": [
       "<Figure size 432x288 with 1 Axes>"
      ]
     },
     "metadata": {
      "needs_background": "light"
     },
     "output_type": "display_data"
    }
   ],
   "source": [
    "import matplotlib\n",
    "%matplotlib inline\n",
    "import matplotlib.pyplot as plt\n",
    "\n",
    "# fig, ax = plt.subplots()\n",
    "# ax.plot(optimal_loss, empirical_loss)\n",
    "\n",
    "# ax.set(xlabel='optimal', ylabel='empirical',\n",
    "#        title='optimal vs empirical losses')\n",
    "# ax.grid()\n",
    "\n",
    "plt.scatter(optimal_loss, empirical_loss)\n",
    "plt.xlabel('optimal')\n",
    "plt.ylabel('empirical')\n",
    "plt.plot(x,x,color='red')\n",
    "plt.plot(x,y,color='green')\n",
    "plt.show()"
   ]
  },
  {
   "cell_type": "code",
   "execution_count": 67,
   "metadata": {},
   "outputs": [
    {
     "data": {
      "text/plain": [
       "0.6931471805599453"
      ]
     },
     "execution_count": 67,
     "metadata": {},
     "output_type": "execute_result"
    }
   ],
   "source": [
    "np.log(2)"
   ]
  },
  {
   "cell_type": "code",
   "execution_count": 72,
   "metadata": {},
   "outputs": [
    {
     "data": {
      "text/plain": [
       "2.890471762896498"
      ]
     },
     "execution_count": 72,
     "metadata": {},
     "output_type": "execute_result"
    }
   ],
   "source": [
    "np.max(empirical_loss)"
   ]
  },
  {
   "cell_type": "code",
   "execution_count": 75,
   "metadata": {},
   "outputs": [
    {
     "data": {
      "text/plain": [
       "0.04019"
      ]
     },
     "execution_count": 75,
     "metadata": {},
     "output_type": "execute_result"
    }
   ],
   "source": [
    "np.min(empirical[:,1])"
   ]
  },
  {
   "cell_type": "code",
   "execution_count": 77,
   "metadata": {},
   "outputs": [
    {
     "data": {
      "text/plain": [
       "96"
      ]
     },
     "execution_count": 77,
     "metadata": {},
     "output_type": "execute_result"
    }
   ],
   "source": [
    "len(np.unique(optimal_loss))"
   ]
  },
  {
   "cell_type": "code",
   "execution_count": 78,
   "metadata": {},
   "outputs": [
    {
     "data": {
      "text/plain": [
       "array([-0.        ,  0.0162615 ,  0.02898607,  0.03539922,  0.08003937,\n",
       "        0.08338161,  0.08700774,  0.08960747,  0.09531118,  0.10536052,\n",
       "        0.11778179,  0.13353139,  0.15415401,  0.16705863,  0.18232556,\n",
       "        0.19004732,  0.1941553 ,  0.20067292,  0.20359831,  0.20763936,\n",
       "        0.22314355,  0.24512079,  0.2682586 ,  0.28768207,  0.29174364,\n",
       "        0.31015947,  0.33646624,  0.35402133,  0.35667494,  0.36772145,\n",
       "        0.37469345,  0.39465871,  0.40546011,  0.43531625,  0.43825693,\n",
       "        0.44702175,  0.45199084,  0.47956923,  0.48551532,  0.4924783 ,\n",
       "        0.51082562,  0.51409764,  0.53900222,  0.55961329,  0.57536414,\n",
       "        0.58777866,  0.6359921 ,  0.66000258,  0.69314718,  0.72742811,\n",
       "        0.75376805,  0.81094022,  0.82667857,  0.84730119,  0.87546074,\n",
       "        0.9114027 ,  0.91629073,  0.94445875,  0.95549945,  0.96508715,\n",
       "        1.01159091,  1.02034654,  1.0360883 ,  1.04145721,  1.09862229,\n",
       "        1.12058186,  1.16315081,  1.1786625 ,  1.2039728 ,  1.2101921 ,\n",
       "        1.25277797,  1.32174334,  1.3742077 ,  1.38629436,  1.44693648,\n",
       "        1.5260623 ,  1.60943791,  1.67397643,  1.69167887,  1.70473809,\n",
       "        1.73460439,  1.75400136,  1.79173947,  1.87177718,  1.94589015,\n",
       "        2.07944154,  2.19723458,  2.30258509,  2.39788527,  2.45678577,\n",
       "        2.48494665,  2.52572864,  2.56498936,  3.35871277,  3.55539806,\n",
       "        4.12707439])"
      ]
     },
     "execution_count": 78,
     "metadata": {},
     "output_type": "execute_result"
    }
   ],
   "source": [
    "np.unique(optimal_loss)"
   ]
  },
  {
   "cell_type": "code",
   "execution_count": 79,
   "metadata": {},
   "outputs": [
    {
     "data": {
      "text/plain": [
       "array([1.     , 0.98387, 0.97143, 0.96522, 0.92308, 0.92   , 0.91667,\n",
       "       0.91429, 0.90909, 0.9    , 0.88889, 0.875  , 0.85714, 0.84615,\n",
       "       0.83333, 0.82692, 0.82353, 0.81818, 0.81579, 0.8125 , 0.8    ,\n",
       "       0.78261, 0.76471, 0.75   , 0.74696, 0.73333, 0.71429, 0.70186,\n",
       "       0.7    , 0.69231, 0.6875 , 0.67391, 0.66667, 0.64706, 0.64516,\n",
       "       0.63953, 0.63636, 0.61905, 0.61538, 0.61111, 0.6    , 0.59804,\n",
       "       0.58333, 0.57143, 0.5625 , 0.55556, 0.52941, 0.51685, 0.5    ,\n",
       "       0.48315, 0.47059, 0.44444, 0.4375 , 0.42857, 0.41667, 0.40196,\n",
       "       0.4    , 0.38889, 0.38462, 0.38095, 0.36364, 0.36047, 0.35484,\n",
       "       0.35294, 0.33333, 0.32609, 0.3125 , 0.30769, 0.3    , 0.29814,\n",
       "       0.28571, 0.26667, 0.25304, 0.25   , 0.23529, 0.21739, 0.2    ,\n",
       "       0.1875 , 0.18421, 0.18182, 0.17647, 0.17308, 0.16667, 0.15385,\n",
       "       0.14286, 0.125  , 0.11111, 0.1    , 0.09091, 0.08571, 0.08333,\n",
       "       0.08   , 0.07692, 0.03478, 0.02857, 0.01613])"
      ]
     },
     "execution_count": 79,
     "metadata": {},
     "output_type": "execute_result"
    }
   ],
   "source": [
    "np.exp(-1*np.unique(optimal_loss))"
   ]
  },
  {
   "cell_type": "code",
   "execution_count": null,
   "metadata": {},
   "outputs": [],
   "source": []
  }
 ],
 "metadata": {
  "kernelspec": {
   "display_name": "Python 3",
   "language": "python",
   "name": "python3"
  },
  "language_info": {
   "codemirror_mode": {
    "name": "ipython",
    "version": 3
   },
   "file_extension": ".py",
   "mimetype": "text/x-python",
   "name": "python",
   "nbconvert_exporter": "python",
   "pygments_lexer": "ipython3",
   "version": "3.6.9"
  }
 },
 "nbformat": 4,
 "nbformat_minor": 4
}
